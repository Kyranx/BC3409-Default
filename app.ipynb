{
 "cells": [
  {
   "cell_type": "code",
   "execution_count": 1,
   "id": "edfac2bc",
   "metadata": {},
   "outputs": [],
   "source": [
    "from flask import Flask\n",
    "app = Flask(__name__)\n",
    "from flask import request, render_template"
   ]
  },
  {
   "cell_type": "code",
   "execution_count": 2,
   "id": "dc6e61a5",
   "metadata": {},
   "outputs": [],
   "source": [
    "from keras.models import load_model\n",
    "@app.route(\"/\",methods=[\"GET\",\"POST\"])\n",
    "def index():\n",
    "    if request.method == \"POST\":\n",
    "        income=request.form.get(\"income\")\n",
    "        age=request.form.get(\"age\")\n",
    "        loan=request.form.get(\"loan\")\n",
    "        print(income,age,loan)\n",
    "        model=load_model(\"assignment_logreg\")\n",
    "        pred=model.predict([[float(income),float(age),float(loan)]])\n",
    "        s = \"The predicted default rate is : \" + str(pred)\n",
    "        return(render_template(\"index.html\",result=s))\n",
    "    else:\n",
    "        return(render_template(\"index.html\",result=\"No results\"))"
   ]
  },
  {
   "cell_type": "code",
   "execution_count": null,
   "id": "2c886a62",
   "metadata": {},
   "outputs": [
    {
     "name": "stdout",
     "output_type": "stream",
     "text": [
      " * Serving Flask app '__main__' (lazy loading)\n",
      " * Environment: production\n",
      "\u001b[31m   WARNING: This is a development server. Do not use it in a production deployment.\u001b[0m\n",
      "\u001b[2m   Use a production WSGI server instead.\u001b[0m\n",
      " * Debug mode: off\n"
     ]
    },
    {
     "name": "stderr",
     "output_type": "stream",
     "text": [
      " * Running on http://127.0.0.1:5000/ (Press CTRL+C to quit)\n",
      "127.0.0.1 - - [25/Feb/2022 01:57:04] \"GET / HTTP/1.1\" 200 -\n",
      "[2022-02-25 01:57:06,555] ERROR in app: Exception on / [POST]\n",
      "Traceback (most recent call last):\n",
      "  File \"D:\\Prog\\lib\\site-packages\\flask\\app.py\", line 2073, in wsgi_app\n",
      "    response = self.full_dispatch_request()\n",
      "  File \"D:\\Prog\\lib\\site-packages\\flask\\app.py\", line 1518, in full_dispatch_request\n",
      "    rv = self.handle_user_exception(e)\n",
      "  File \"D:\\Prog\\lib\\site-packages\\flask\\app.py\", line 1516, in full_dispatch_request\n",
      "    rv = self.dispatch_request()\n",
      "  File \"D:\\Prog\\lib\\site-packages\\flask\\app.py\", line 1502, in dispatch_request\n",
      "    return self.ensure_sync(self.view_functions[rule.endpoint])(**req.view_args)\n",
      "  File \"C:\\Users\\ALVINL~1\\AppData\\Local\\Temp/ipykernel_83852/2836349724.py\", line 9, in index\n",
      "    model=load_model(\"assignment_logreg\")\n",
      "  File \"D:\\Prog\\lib\\site-packages\\keras\\utils\\traceback_utils.py\", line 67, in error_handler\n",
      "    raise e.with_traceback(filtered_tb) from None\n",
      "  File \"D:\\Prog\\lib\\site-packages\\h5py\\_hl\\files.py\", line 507, in __init__\n",
      "    fid = make_fid(name, mode, userblock_size, fapl, fcpl, swmr=swmr)\n",
      "  File \"D:\\Prog\\lib\\site-packages\\h5py\\_hl\\files.py\", line 220, in make_fid\n",
      "    fid = h5f.open(name, flags, fapl=fapl)\n",
      "  File \"h5py\\_objects.pyx\", line 54, in h5py._objects.with_phil.wrapper\n",
      "  File \"h5py\\_objects.pyx\", line 55, in h5py._objects.with_phil.wrapper\n",
      "  File \"h5py\\h5f.pyx\", line 106, in h5py.h5f.open\n",
      "OSError: Unable to open file (file signature not found)\n",
      "127.0.0.1 - - [25/Feb/2022 01:57:06] \"POST / HTTP/1.1\" 500 -\n"
     ]
    },
    {
     "name": "stdout",
     "output_type": "stream",
     "text": [
      "1 1 1\n"
     ]
    }
   ],
   "source": [
    "if __name__ == \"__main__\":\n",
    "    app.run(host=\"127.0.0.1\", port=int(\"5000\"))"
   ]
  },
  {
   "cell_type": "code",
   "execution_count": null,
   "id": "316f1fa3",
   "metadata": {},
   "outputs": [],
   "source": []
  }
 ],
 "metadata": {
  "kernelspec": {
   "display_name": "Python 3 (ipykernel)",
   "language": "python",
   "name": "python3"
  },
  "language_info": {
   "codemirror_mode": {
    "name": "ipython",
    "version": 3
   },
   "file_extension": ".py",
   "mimetype": "text/x-python",
   "name": "python",
   "nbconvert_exporter": "python",
   "pygments_lexer": "ipython3",
   "version": "3.7.6"
  }
 },
 "nbformat": 4,
 "nbformat_minor": 5
}
